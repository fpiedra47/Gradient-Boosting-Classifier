{
  "nbformat": 4,
  "nbformat_minor": 0,
  "metadata": {
    "colab": {
      "provenance": []
    },
    "kernelspec": {
      "name": "python3",
      "display_name": "Python 3"
    },
    "language_info": {
      "name": "python"
    }
  },
  "cells": [
    {
      "cell_type": "markdown",
      "metadata": {
        "id": "WXpaXWCqE5pA"
      },
      "source": [
        "**Ejercicio: Utilizar un modelo entrenado con nuevos datos**\n",
        "\n",
        "* Previamente creamos un modelo básico que nos permitía encontrar la relación entre el tamaño del arnés de un perro y el tamaño de sus botas. \n",
        "\n",
        "* Mostramos cómo este modelo podía utilizarse para hacer una predicción sobre un nuevo perro no visto anteriormente.\n",
        "\n",
        "* Es habitual construir, entrenar y luego utilizar un modelo mientras estamos aprendiendo sobre el aprendizaje automático, pero en el mundo real no queremos entrenar el modelo cada vez que queremos hacer una predicción.\n",
        "\n",
        "**Consideremos nuestro escenario de la tienda de equipos para perros de avalancha:**\n",
        "\n",
        "* Queremos entrenar el modelo sólo una vez, y luego cargar ese modelo en el servidor que gestiona nuestra tienda online.\n",
        "\n",
        "* Aunque el modelo se ha entrenado en un conjunto de datos que hemos descargado de Internet, en realidad queremos utilizarlo para estimar el tamaño de las botas de los perros de nuestros clientes que no están en este conjunto de datos.\n",
        "¿Cómo podemos hacerlo?\n",
        "\n",
        "**¿ Qué vamos a hacer ?**\n",
        "\n",
        "* Crear un modelo básico\n",
        "* Guardarlo en el disco\n",
        "* Cargarlo desde el disco\n",
        "* Usarlo para hacer predicciones sobre un perro que no estaba en el conjunto de datos de entrenamiento."
      ]
    },
    {
      "cell_type": "markdown",
      "metadata": {
        "id": "qCDQoYjgGxNu"
      },
      "source": [
        "**Cargamos el dataset**"
      ]
    },
    {
      "cell_type": "code",
      "metadata": {
        "colab": {
          "base_uri": "https://localhost:8080/"
        },
        "id": "m2wwUKCcEusH",
        "outputId": "e9e7ccbe-cc79-4eee-e97e-40989f640a14"
      },
      "source": [
        "import pandas\n",
        "import statsmodels\n",
        "!wget https://raw.githubusercontent.com/MicrosoftDocs/mslearn-introduction-to-machine-learning/main/Data/doggy-boot-harness.csv"
      ],
      "execution_count": 1,
      "outputs": [
        {
          "output_type": "stream",
          "name": "stdout",
          "text": [
            "--2022-10-26 22:56:24--  https://raw.githubusercontent.com/MicrosoftDocs/mslearn-introduction-to-machine-learning/main/Data/doggy-boot-harness.csv\n",
            "Resolving raw.githubusercontent.com (raw.githubusercontent.com)... 185.199.108.133, 185.199.109.133, 185.199.110.133, ...\n",
            "Connecting to raw.githubusercontent.com (raw.githubusercontent.com)|185.199.108.133|:443... connected.\n",
            "HTTP request sent, awaiting response... 200 OK\n",
            "Length: 838 [text/plain]\n",
            "Saving to: ‘doggy-boot-harness.csv’\n",
            "\n",
            "\rdoggy-boot-harness.   0%[                    ]       0  --.-KB/s               \rdoggy-boot-harness. 100%[===================>]     838  --.-KB/s    in 0s      \n",
            "\n",
            "2022-10-26 22:56:25 (19.0 MB/s) - ‘doggy-boot-harness.csv’ saved [838/838]\n",
            "\n"
          ]
        }
      ]
    },
    {
      "cell_type": "code",
      "metadata": {
        "colab": {
          "base_uri": "https://localhost:8080/",
          "height": 206
        },
        "id": "fPMdtjKuIBA8",
        "outputId": "86c979a3-a37b-4dbc-d029-110e13741efd"
      },
      "source": [
        "# Cargar un archivo con las tallas de botas y arneses del perro\n",
        "data = pandas.read_csv('doggy-boot-harness.csv')\n",
        "\n",
        "# Imprimimos algunos registros\n",
        "data.head()"
      ],
      "execution_count": 2,
      "outputs": [
        {
          "output_type": "execute_result",
          "data": {
            "text/plain": [
              "   boot_size  harness_size     sex  age_years\n",
              "0         39            58    male       12.0\n",
              "1         38            58    male        9.6\n",
              "2         37            52  female        8.6\n",
              "3         39            58    male       10.2\n",
              "4         38            57    male        7.8"
            ],
            "text/html": [
              "\n",
              "  <div id=\"df-fc037ea1-623c-4eef-8dcc-a848d776265b\">\n",
              "    <div class=\"colab-df-container\">\n",
              "      <div>\n",
              "<style scoped>\n",
              "    .dataframe tbody tr th:only-of-type {\n",
              "        vertical-align: middle;\n",
              "    }\n",
              "\n",
              "    .dataframe tbody tr th {\n",
              "        vertical-align: top;\n",
              "    }\n",
              "\n",
              "    .dataframe thead th {\n",
              "        text-align: right;\n",
              "    }\n",
              "</style>\n",
              "<table border=\"1\" class=\"dataframe\">\n",
              "  <thead>\n",
              "    <tr style=\"text-align: right;\">\n",
              "      <th></th>\n",
              "      <th>boot_size</th>\n",
              "      <th>harness_size</th>\n",
              "      <th>sex</th>\n",
              "      <th>age_years</th>\n",
              "    </tr>\n",
              "  </thead>\n",
              "  <tbody>\n",
              "    <tr>\n",
              "      <th>0</th>\n",
              "      <td>39</td>\n",
              "      <td>58</td>\n",
              "      <td>male</td>\n",
              "      <td>12.0</td>\n",
              "    </tr>\n",
              "    <tr>\n",
              "      <th>1</th>\n",
              "      <td>38</td>\n",
              "      <td>58</td>\n",
              "      <td>male</td>\n",
              "      <td>9.6</td>\n",
              "    </tr>\n",
              "    <tr>\n",
              "      <th>2</th>\n",
              "      <td>37</td>\n",
              "      <td>52</td>\n",
              "      <td>female</td>\n",
              "      <td>8.6</td>\n",
              "    </tr>\n",
              "    <tr>\n",
              "      <th>3</th>\n",
              "      <td>39</td>\n",
              "      <td>58</td>\n",
              "      <td>male</td>\n",
              "      <td>10.2</td>\n",
              "    </tr>\n",
              "    <tr>\n",
              "      <th>4</th>\n",
              "      <td>38</td>\n",
              "      <td>57</td>\n",
              "      <td>male</td>\n",
              "      <td>7.8</td>\n",
              "    </tr>\n",
              "  </tbody>\n",
              "</table>\n",
              "</div>\n",
              "      <button class=\"colab-df-convert\" onclick=\"convertToInteractive('df-fc037ea1-623c-4eef-8dcc-a848d776265b')\"\n",
              "              title=\"Convert this dataframe to an interactive table.\"\n",
              "              style=\"display:none;\">\n",
              "        \n",
              "  <svg xmlns=\"http://www.w3.org/2000/svg\" height=\"24px\"viewBox=\"0 0 24 24\"\n",
              "       width=\"24px\">\n",
              "    <path d=\"M0 0h24v24H0V0z\" fill=\"none\"/>\n",
              "    <path d=\"M18.56 5.44l.94 2.06.94-2.06 2.06-.94-2.06-.94-.94-2.06-.94 2.06-2.06.94zm-11 1L8.5 8.5l.94-2.06 2.06-.94-2.06-.94L8.5 2.5l-.94 2.06-2.06.94zm10 10l.94 2.06.94-2.06 2.06-.94-2.06-.94-.94-2.06-.94 2.06-2.06.94z\"/><path d=\"M17.41 7.96l-1.37-1.37c-.4-.4-.92-.59-1.43-.59-.52 0-1.04.2-1.43.59L10.3 9.45l-7.72 7.72c-.78.78-.78 2.05 0 2.83L4 21.41c.39.39.9.59 1.41.59.51 0 1.02-.2 1.41-.59l7.78-7.78 2.81-2.81c.8-.78.8-2.07 0-2.86zM5.41 20L4 18.59l7.72-7.72 1.47 1.35L5.41 20z\"/>\n",
              "  </svg>\n",
              "      </button>\n",
              "      \n",
              "  <style>\n",
              "    .colab-df-container {\n",
              "      display:flex;\n",
              "      flex-wrap:wrap;\n",
              "      gap: 12px;\n",
              "    }\n",
              "\n",
              "    .colab-df-convert {\n",
              "      background-color: #E8F0FE;\n",
              "      border: none;\n",
              "      border-radius: 50%;\n",
              "      cursor: pointer;\n",
              "      display: none;\n",
              "      fill: #1967D2;\n",
              "      height: 32px;\n",
              "      padding: 0 0 0 0;\n",
              "      width: 32px;\n",
              "    }\n",
              "\n",
              "    .colab-df-convert:hover {\n",
              "      background-color: #E2EBFA;\n",
              "      box-shadow: 0px 1px 2px rgba(60, 64, 67, 0.3), 0px 1px 3px 1px rgba(60, 64, 67, 0.15);\n",
              "      fill: #174EA6;\n",
              "    }\n",
              "\n",
              "    [theme=dark] .colab-df-convert {\n",
              "      background-color: #3B4455;\n",
              "      fill: #D2E3FC;\n",
              "    }\n",
              "\n",
              "    [theme=dark] .colab-df-convert:hover {\n",
              "      background-color: #434B5C;\n",
              "      box-shadow: 0px 1px 3px 1px rgba(0, 0, 0, 0.15);\n",
              "      filter: drop-shadow(0px 1px 2px rgba(0, 0, 0, 0.3));\n",
              "      fill: #FFFFFF;\n",
              "    }\n",
              "  </style>\n",
              "\n",
              "      <script>\n",
              "        const buttonEl =\n",
              "          document.querySelector('#df-fc037ea1-623c-4eef-8dcc-a848d776265b button.colab-df-convert');\n",
              "        buttonEl.style.display =\n",
              "          google.colab.kernel.accessAllowed ? 'block' : 'none';\n",
              "\n",
              "        async function convertToInteractive(key) {\n",
              "          const element = document.querySelector('#df-fc037ea1-623c-4eef-8dcc-a848d776265b');\n",
              "          const dataTable =\n",
              "            await google.colab.kernel.invokeFunction('convertToInteractive',\n",
              "                                                     [key], {});\n",
              "          if (!dataTable) return;\n",
              "\n",
              "          const docLinkHtml = 'Like what you see? Visit the ' +\n",
              "            '<a target=\"_blank\" href=https://colab.research.google.com/notebooks/data_table.ipynb>data table notebook</a>'\n",
              "            + ' to learn more about interactive tables.';\n",
              "          element.innerHTML = '';\n",
              "          dataTable['output_type'] = 'display_data';\n",
              "          await google.colab.output.renderOutput(dataTable, element);\n",
              "          const docLink = document.createElement('div');\n",
              "          docLink.innerHTML = docLinkHtml;\n",
              "          element.appendChild(docLink);\n",
              "        }\n",
              "      </script>\n",
              "    </div>\n",
              "  </div>\n",
              "  "
            ]
          },
          "metadata": {},
          "execution_count": 2
        }
      ]
    },
    {
      "cell_type": "markdown",
      "metadata": {
        "id": "2KMSt-7VIQAB"
      },
      "source": [
        "**Crear y entrenar un modelo**\n",
        "\n",
        "Como hemos hecho antes, crearemos un modelo de regresión lineal simple y lo entrenaremos en nuestro conjunto de datos."
      ]
    },
    {
      "cell_type": "code",
      "metadata": {
        "colab": {
          "base_uri": "https://localhost:8080/"
        },
        "id": "h5vZ23psIWN0",
        "outputId": "684aa0e7-d574-4a2b-afc7-26680a75b6d0"
      },
      "source": [
        "import statsmodels.formula.api as smf\n",
        "\n",
        "# Ajustar un modelo simple que encuentre una relación lineal\n",
        "# entre el tamaño de la bota y el tamaño del arnés, que podemos utilizar más tarde\n",
        "# para predecir el tamaño de la bota de un perro, dado su tamaño de arnés\n",
        "\n",
        "formula = \"boot_size ~ harness_size\"\n",
        "\n",
        "model = smf.ols(formula = formula, data = data);\n",
        "model = model.fit()\n",
        "\n",
        "print(\"Modelo entrenado!\")"
      ],
      "execution_count": 3,
      "outputs": [
        {
          "output_type": "stream",
          "name": "stdout",
          "text": [
            "Modelo entrenado!\n"
          ]
        }
      ]
    },
    {
      "cell_type": "markdown",
      "metadata": {
        "id": "yawIP1P0Ivjt"
      },
      "source": [
        "**Guardar y cargar un modelo**\n",
        "\n",
        "Nuestro modelo está listo para ser utilizado, pero aún no lo necesitamos. Vamos a guardarlo en el disco."
      ]
    },
    {
      "cell_type": "code",
      "metadata": {
        "colab": {
          "base_uri": "https://localhost:8080/"
        },
        "id": "GcwY5wscI1Er",
        "outputId": "e815258d-3f8f-49c1-dc81-ecfb4eb773d5"
      },
      "source": [
        "import joblib\n",
        "\n",
        "#pickle\n",
        "\n",
        "model_filename = './avalanche_dog_boot_model.pkl'\n",
        "joblib.dump(model, model_filename)\n",
        "\n",
        "print(\"Modelo grabado!\")"
      ],
      "execution_count": 4,
      "outputs": [
        {
          "output_type": "stream",
          "name": "stdout",
          "text": [
            "Modelo grabado!\n"
          ]
        }
      ]
    },
    {
      "cell_type": "markdown",
      "metadata": {
        "id": "ZHPdvdCDJLDT"
      },
      "source": [
        "**Cargar nuestro modelo es igual de fácil:**"
      ]
    },
    {
      "cell_type": "code",
      "metadata": {
        "colab": {
          "base_uri": "https://localhost:8080/"
        },
        "id": "c7IoDmPfJM4i",
        "outputId": "16ad863d-e96a-444c-8540-4e3b1a86c023"
      },
      "source": [
        "model_filename = './avalanche_dog_boot_model.pkl'\n",
        "model_loaded = joblib.load(model_filename)\n",
        "\n",
        "print(\"El modelo se ha cargado con los siguientes parámetros:\")\n",
        "print(model_loaded.params)"
      ],
      "execution_count": 5,
      "outputs": [
        {
          "output_type": "stream",
          "name": "stdout",
          "text": [
            "El modelo se ha cargado con los siguientes parámetros:\n",
            "Intercept       5.719110\n",
            "harness_size    0.585925\n",
            "dtype: float64\n"
          ]
        }
      ]
    },
    {
      "cell_type": "markdown",
      "metadata": {
        "id": "kvv6ogN7Jmvj"
      },
      "source": [
        "**Poniendo todo junto**\n",
        "\n",
        "En nuestro sitio web, vamos a querer tomar el arnés del perro de nuestro cliente, y luego calcular el tamaño de las botas de su perro utilizando el modelo que ya hemos entrenado.\n",
        "\n",
        "Hagamos una función que cargue el modelo desde el disco, y luego lo use para predecir la altura del tamaño de la bota del perro de nuestro cliente."
      ]
    },
    {
      "cell_type": "code",
      "source": [
        "harness_size = int(input(\"Ingrese tamaño del arnés: \"))"
      ],
      "metadata": {
        "colab": {
          "base_uri": "https://localhost:8080/"
        },
        "id": "1yubCBAgV3fd",
        "outputId": "872c980b-1021-4b17-b27f-57f3ebb50748"
      },
      "execution_count": 6,
      "outputs": [
        {
          "name": "stdout",
          "output_type": "stream",
          "text": [
            "Ingrese tamaño del arnés: 20\n"
          ]
        }
      ]
    },
    {
      "cell_type": "code",
      "metadata": {
        "id": "AsV4T40SJv01",
        "colab": {
          "base_uri": "https://localhost:8080/"
        },
        "outputId": "90aa814b-e1fe-4340-a1bf-c16644652014"
      },
      "source": [
        "# Preparar los datos de entrada para el modelo\n",
        "inputs = { 'harness_size' : [harness_size] }\n",
        "\n",
        "# Usamos el modelo para hacer predicciones\n",
        "predicted_boot_size = model_loaded.predict(inputs)[0] #devuelve una serie, usamos el [0] para que me de el valor de la celda con el resultado\n",
        "\n",
        "predicted_boot_size"
      ],
      "execution_count": 7,
      "outputs": [
        {
          "output_type": "execute_result",
          "data": {
            "text/plain": [
              "17.43761814744801"
            ]
          },
          "metadata": {},
          "execution_count": 7
        }
      ]
    },
    {
      "cell_type": "markdown",
      "metadata": {
        "id": "ol60hAfcPbnH"
      },
      "source": [
        "# Ejercicio"
      ]
    },
    {
      "cell_type": "markdown",
      "metadata": {
        "id": "0jPIeiVh--Ee"
      },
      "source": [
        "**Uso en el mundo real**\n",
        "\n",
        "Lo hemos conseguido: podemos predecir la talla de las botas de un perro en caso de avalancha, basándonos en el tamaño de su arnés.\n",
        "\n",
        "Nuestro último paso es utilizar esto para advertir a la gente si puede estar comprando botas de perro de tamaño incorrecto.\n",
        "\n",
        "Como ejemplo, haremos código que acepte la talla del arnés, la talla de las botas seleccionadas, y devuelva un mensaje para el cliente."
      ]
    },
    {
      "cell_type": "code",
      "source": [
        "arnes = int(input(\"Ingrese tamaño del arnés: \"))\n",
        "botas = int(input(\"Ingrese tamaño de las botas: \"))"
      ],
      "metadata": {
        "colab": {
          "base_uri": "https://localhost:8080/"
        },
        "id": "6LcVYwX-Zsew",
        "outputId": "92f070d3-9e99-4116-a824-55f779cd10a1"
      },
      "execution_count": null,
      "outputs": [
        {
          "name": "stdout",
          "output_type": "stream",
          "text": [
            "Ingrese tamaño del arnés: 52\n",
            "Ingrese tamaño de las botas: 52\n"
          ]
        }
      ]
    },
    {
      "cell_type": "code",
      "source": [
        "# Preparar los datos de entrada para el modelo\n",
        "inputs = { 'harness_size' : [harness_size] }\n",
        "\n",
        "# Usamos el modelo para hacer predicciones\n",
        "predicted_boot_size = model_loaded.predict(inputs)[0] #devuelve una serie, usamos el [0] para que me de el valor de la celda con el resultado\n",
        "predicted_boot_size = round(predicted_boot_size)\n",
        "\n",
        "predicted_boot_size"
      ],
      "metadata": {
        "colab": {
          "base_uri": "https://localhost:8080/"
        },
        "id": "PuXQty9BZyIP",
        "outputId": "51e1d606-170b-4742-f0ff-0fa46ac71bec"
      },
      "execution_count": null,
      "outputs": [
        {
          "output_type": "execute_result",
          "data": {
            "text/plain": [
              "29"
            ]
          },
          "metadata": {},
          "execution_count": 9
        }
      ]
    },
    {
      "cell_type": "code",
      "source": [
        "# Verificar si el tamaño de la bota es el apropiado\n",
        "if int(botas) == predicted_boot_size:\n",
        "  # Las botas probablemente están OK\n",
        "  print(\"¡Gran elección! Creemos que estas botas se adaptarán bien a su perro.\")\n",
        "\n",
        "if int(botas) < predicted_boot_size:\n",
        "   # Las botas seleccionadas podrían ser muy pequeñas \n",
        "   print(\"Las botas que has seleccionado podrían ser DEMASIADO PEQUEÑAS para un perro tan \"\\\n",
        "               f\"grande como el suyo. Recomendamos unas botas de tamaño {predicted_boot_size}.\")\n",
        "\n",
        "if int(botas) >predicted_boot_size:\n",
        "  # Las botas selecionadas podrian ser muy grandes \n",
        "  print(\"Las botas que has seleccionado podrían ser DEMASIADO GRANDES para un perro tan \"\\\n",
        "               f\"pequeño como el suyo. Recomendamos unas botas de tamaño {predicted_boot_size}.\")"
      ],
      "metadata": {
        "colab": {
          "base_uri": "https://localhost:8080/"
        },
        "id": "Zoe6RFPCaBwI",
        "outputId": "ffa3e0cc-baa8-4903-83b2-c1ceda1cb8fa"
      },
      "execution_count": null,
      "outputs": [
        {
          "output_type": "stream",
          "name": "stdout",
          "text": [
            "Las botas que has seleccionado podrían ser DEMASIADO GRANDES para un perro tan pequeño como el suyo. Recomendamos unas botas de tamaño 29.\n"
          ]
        }
      ]
    },
    {
      "cell_type": "markdown",
      "metadata": {
        "id": "YGssiSUnMmwA"
      },
      "source": [
        "# Resumen\n",
        "¡Genial! \n",
        "Hemos creado un sistema que puede predecir si los clientes están comprando botas para perros que pueden no ajustarse a su perro de avalancha, basándose únicamente en el tamaño del arnés que están comprando.\n",
        "\n",
        "En este ejercicio, hemos practicado:\n",
        "\n",
        "* Crear un modelo básico\n",
        "* Entrenarlos y guardarlos en el disco\n",
        "* Cargarlos desde el disco\n",
        "* Hacer predicciones con ellos utilizando nuevos conjuntos de datos"
      ]
    }
  ]
}